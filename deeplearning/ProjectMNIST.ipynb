{
  "nbformat": 4,
  "nbformat_minor": 0,
  "metadata": {
    "colab": {
      "name": "ProjectMNIST.ipynb",
      "provenance": [],
      "authorship_tag": "ABX9TyMUl+ryItpnCAYN4av20Y/N"
    },
    "kernelspec": {
      "name": "python3",
      "display_name": "Python 3"
    },
    "accelerator": "GPU"
  },
  "cells": [
    {
      "cell_type": "markdown",
      "metadata": {
        "id": "Z4LAMNJXjfh3",
        "colab_type": "text"
      },
      "source": [
        "### Concepts will be covered:\n",
        "  - Regression, Classification\n",
        "  - Flattening\n",
        "  - ReLU, Softmax\n",
        "  - DropOut\n",
        "  - Training and Testing\n",
        "  "
      ]
    },
    {
      "cell_type": "markdown",
      "metadata": {
        "id": "dZ7EDruZj5lU",
        "colab_type": "text"
      },
      "source": [
        "## Import libraries"
      ]
    },
    {
      "cell_type": "code",
      "metadata": {
        "id": "3BWX7hhAj-Th",
        "colab_type": "code",
        "colab": {}
      },
      "source": [
        "import numpy as np\n",
        "\n",
        "try :\n",
        "  %tensorflow version 2.x\n",
        "except Exception:\n",
        "  pass\n",
        "\n",
        "import tensorflow as tf"
      ],
      "execution_count": 2,
      "outputs": []
    },
    {
      "cell_type": "markdown",
      "metadata": {
        "id": "bHnOlAcSkUk-",
        "colab_type": "text"
      },
      "source": [
        "# Preparing the Data\n",
        "- loading the MNIST data with keras"
      ]
    },
    {
      "cell_type": "code",
      "metadata": {
        "id": "cc5FKQAjkTNd",
        "colab_type": "code",
        "colab": {
          "base_uri": "https://localhost:8080/",
          "height": 71
        },
        "outputId": "008c477b-cd0d-4741-b910-093b90d9fbc1"
      },
      "source": [
        "mnist = tf.keras.datasets.mnist\n",
        "(x_train, y_train), (x_test, y_test) = mnist.load_data()"
      ],
      "execution_count": 3,
      "outputs": [
        {
          "output_type": "stream",
          "text": [
            "Downloading data from https://storage.googleapis.com/tensorflow/tf-keras-datasets/mnist.npz\n",
            "11493376/11490434 [==============================] - 0s 0us/step\n"
          ],
          "name": "stdout"
        }
      ]
    },
    {
      "cell_type": "code",
      "metadata": {
        "id": "jR0Ew831ktWy",
        "colab_type": "code",
        "colab": {
          "base_uri": "https://localhost:8080/",
          "height": 119
        },
        "outputId": "ae76dcc8-1353-45af-d03b-e3dbfa76ca88"
      },
      "source": [
        "print(x_train.shape)\n",
        "print(x_test.shape)\n",
        "print(y_train.shape)\n",
        "print(y_test.shape)\n",
        "print(np.unique(y_train))\n",
        "print(np.unique(y_test))"
      ],
      "execution_count": 4,
      "outputs": [
        {
          "output_type": "stream",
          "text": [
            "(60000, 28, 28)\n",
            "(10000, 28, 28)\n",
            "(60000,)\n",
            "(10000,)\n",
            "[0 1 2 3 4 5 6 7 8 9]\n",
            "[0 1 2 3 4 5 6 7 8 9]\n"
          ],
          "name": "stdout"
        }
      ]
    },
    {
      "cell_type": "code",
      "metadata": {
        "id": "v-oe3bp2k_FD",
        "colab_type": "code",
        "colab": {
          "base_uri": "https://localhost:8080/",
          "height": 282
        },
        "outputId": "cfeaac04-d52c-4c76-b6c8-bacb88508a81"
      },
      "source": [
        "import matplotlib.pyplot as plt\n",
        "plt.imshow(x_train[0], cmap='Greys')"
      ],
      "execution_count": 6,
      "outputs": [
        {
          "output_type": "execute_result",
          "data": {
            "text/plain": [
              "<matplotlib.image.AxesImage at 0x7fcee39a6ac8>"
            ]
          },
          "metadata": {
            "tags": []
          },
          "execution_count": 6
        },
        {
          "output_type": "display_data",
          "data": {
            "image/png": "[encoded data removed]",
            "text/plain": [
              "<Figure size 432x288 with 1 Axes>"
            ]
          },
          "metadata": {
            "tags": [],
            "needs_background": "light"
          }
        }
      ]
    },
    {
      "cell_type": "code",
      "metadata": {
        "id": "erlaQV56lZD4",
        "colab_type": "code",
        "colab": {
          "base_uri": "https://localhost:8080/",
          "height": 34
        },
        "outputId": "945574af-7222-4ab4-ab4f-1799b679414f"
      },
      "source": [
        "y_train[0]"
      ],
      "execution_count": 7,
      "outputs": [
        {
          "output_type": "execute_result",
          "data": {
            "text/plain": [
              "5"
            ]
          },
          "metadata": {
            "tags": []
          },
          "execution_count": 7
        }
      ]
    },
    {
      "cell_type": "markdown",
      "metadata": {
        "id": "cW7yAekUlnFp",
        "colab_type": "text"
      },
      "source": [
        "- Data comes in the form of uint8 with value in the [0, 255] range. We need to transform it into Python *float32* array with value between 0 and 1."
      ]
    },
    {
      "cell_type": "code",
      "metadata": {
        "id": "wniL7sCHlhIq",
        "colab_type": "code",
        "colab": {}
      },
      "source": [
        "x_train, x_test = x_train / 255.0, x_test / 255.0"
      ],
      "execution_count": 8,
      "outputs": []
    },
    {
      "cell_type": "markdown",
      "metadata": {
        "id": "zLXZjeTBmJ25",
        "colab_type": "text"
      },
      "source": [
        "# Defining, Compiling and Fitting Our Model"
      ]
    },
    {
      "cell_type": "markdown",
      "metadata": {
        "id": "gdOjPKKumMC7",
        "colab_type": "text"
      },
      "source": [
        "## Model 1:\n",
        " - **First Layer** : input *tf.keras.layers.Flatten*- This layer flattens the digit images from 2d-array of 28*28 pixels, to 1d-array of 784pixels (28*28). This layer only reformats the data.\n",
        "\n",
        " - **Second Layer: \"Hidden\"** *tf.keras.Dense* - A densely connected layer of 512neurons. Each neuron (or node) takes input from all 784 nodes in the  previous layer. Recall that we flattened the image.\n",
        "\n",
        "- **ouput:** *tf.keras.layers.Dense* - A 10-node *softmax* layer, with each node representing each of the digit class. As in th previous layer, each node takes input from the 512 nodes in the layer before it. Each node weights the input according to learned parameters, and then outputs a value in the range [0, 1], representing the probability that the image belongs to that class. The sum of all node values is 1."
      ]
    },
    {
      "cell_type": "code",
      "metadata": {
        "id": "3DQUJIdXmDTJ",
        "colab_type": "code",
        "colab": {
          "base_uri": "https://localhost:8080/",
          "height": 615
        },
        "outputId": "55cac3d1-b681-4fb0-e5ea-4e1ae01a402f"
      },
      "source": [
        "model = tf.keras.Sequential([\n",
        "                             tf.keras.layers.Flatten(input_shape=(28, 28)),\n",
        "                             tf.keras.layers.Dense(units=512, activation='relu'),\n",
        "                             tf.keras.layers.Dense(units=10, activation='softmax')\n",
        "])\n",
        "model.summary()\n",
        "model.compile(optimizer='rmsprop', loss='sparse_categorical_crossentropy',\n",
        "              metrics=['accuracy'])\n",
        "h = model.fit(x_train, y_train, epochs=10, batch_size=256)"
      ],
      "execution_count": 9,
      "outputs": [
        {
          "output_type": "stream",
          "text": [
            "Model: \"sequential\"\n",
            "_________________________________________________________________\n",
            "Layer (type)                 Output Shape              Param #   \n",
            "=================================================================\n",
            "flatten (Flatten)            (None, 784)               0         \n",
            "_________________________________________________________________\n",
            "dense (Dense)                (None, 512)               401920    \n",
            "_________________________________________________________________\n",
            "dense_1 (Dense)              (None, 10)                5130      \n",
            "=================================================================\n",
            "Total params: 407,050\n",
            "Trainable params: 407,050\n",
            "Non-trainable params: 0\n",
            "_________________________________________________________________\n",
            "Epoch 1/10\n",
            "235/235 [==============================] - 1s 4ms/step - loss: 0.3084 - accuracy: 0.9123\n",
            "Epoch 2/10\n",
            "235/235 [==============================] - 1s 4ms/step - loss: 0.1287 - accuracy: 0.9630\n",
            "Epoch 3/10\n",
            "235/235 [==============================] - 1s 4ms/step - loss: 0.0852 - accuracy: 0.9749\n",
            "Epoch 4/10\n",
            "235/235 [==============================] - 1s 4ms/step - loss: 0.0624 - accuracy: 0.9813\n",
            "Epoch 5/10\n",
            "235/235 [==============================] - 1s 4ms/step - loss: 0.0472 - accuracy: 0.9859\n",
            "Epoch 6/10\n",
            "235/235 [==============================] - 1s 4ms/step - loss: 0.0361 - accuracy: 0.9895\n",
            "Epoch 7/10\n",
            "235/235 [==============================] - 1s 4ms/step - loss: 0.0285 - accuracy: 0.9919\n",
            "Epoch 8/10\n",
            "235/235 [==============================] - 1s 4ms/step - loss: 0.0223 - accuracy: 0.9936\n",
            "Epoch 9/10\n",
            "235/235 [==============================] - 1s 4ms/step - loss: 0.0176 - accuracy: 0.9953\n",
            "Epoch 10/10\n",
            "235/235 [==============================] - 1s 4ms/step - loss: 0.0138 - accuracy: 0.9963\n"
          ],
          "name": "stdout"
        }
      ]
    },
    {
      "cell_type": "markdown",
      "metadata": {
        "id": "G4k3veJbpAqr",
        "colab_type": "text"
      },
      "source": [
        "The batch_size tells the model.fit to update the model variables after every batches of 256 images."
      ]
    },
    {
      "cell_type": "code",
      "metadata": {
        "id": "LLdJ8yGyo83E",
        "colab_type": "code",
        "colab": {
          "base_uri": "https://localhost:8080/",
          "height": 296
        },
        "outputId": "e703bd9f-29bb-4d55-8791-9ea493c91a51"
      },
      "source": [
        "import matplotlib.pyplot as plt\n",
        "plt.xlabel(\"Epoch Number\")\n",
        "plt.ylabel(\"Loss Magnitude\")\n",
        "plt.plot(h.history['loss'])"
      ],
      "execution_count": 10,
      "outputs": [
        {
          "output_type": "execute_result",
          "data": {
            "text/plain": [
              "[<matplotlib.lines.Line2D at 0x7fcee03c3f60>]"
            ]
          },
          "metadata": {
            "tags": []
          },
          "execution_count": 10
        },
        {
          "output_type": "display_data",
          "data": {
            "image/png": "[encoded data removed]",
            "text/plain": [
              "<Figure size 432x288 with 1 Axes>"
            ]
          },
          "metadata": {
            "tags": [],
            "needs_background": "light"
          }
        }
      ]
    },
    {
      "cell_type": "code",
      "metadata": {
        "id": "Ro2rPssVpqRd",
        "colab_type": "code",
        "colab": {
          "base_uri": "https://localhost:8080/",
          "height": 71
        },
        "outputId": "3c7a5336-3284-441c-e954-1ea9f9bb9037"
      },
      "source": [
        "eval_loss, eval_acc = model.evaluate(x_test,\n",
        "                                     y_test)\n",
        "print('Test Accuracy: {}'.format(eval_acc))"
      ],
      "execution_count": 11,
      "outputs": [
        {
          "output_type": "stream",
          "text": [
            "313/313 [==============================] - 1s 3ms/step - loss: 0.0636 - accuracy: 0.9822\n",
            "Test Accuracy: 0.982200026512146\n"
          ],
          "name": "stdout"
        }
      ]
    },
    {
      "cell_type": "markdown",
      "metadata": {
        "id": "1j_yqZ0gqKl1",
        "colab_type": "text"
      },
      "source": [
        "## Model 2"
      ]
    },
    {
      "cell_type": "code",
      "metadata": {
        "id": "wxIVURGtp2jk",
        "colab_type": "code",
        "colab": {
          "base_uri": "https://localhost:8080/",
          "height": 649
        },
        "outputId": "092d1255-006b-4af1-c7f0-ed2b1799e5e7"
      },
      "source": [
        "model2 = tf.keras.Sequential([\n",
        "                             tf.keras.layers.Flatten(input_shape=(28, 28)),\n",
        "                             tf.keras.layers.Dense(units=128, activation='relu'),\n",
        "                             tf.keras.layers.Dropout(0.2), #to drop 20% of the previous layer inputs at random to avoid overfitting\n",
        "                             tf.keras.layers.Dense(units=10, activation='softmax')\n",
        "])\n",
        "model2.summary()\n",
        "model2.compile(optimizer='adam', loss='sparse_categorical_crossentropy',\n",
        "              metrics=['accuracy'])\n",
        "h2 = model2.fit(x_train, y_train, epochs=10, batch_size=256)"
      ],
      "execution_count": 13,
      "outputs": [
        {
          "output_type": "stream",
          "text": [
            "Model: \"sequential_2\"\n",
            "_________________________________________________________________\n",
            "Layer (type)                 Output Shape              Param #   \n",
            "=================================================================\n",
            "flatten_2 (Flatten)          (None, 784)               0         \n",
            "_________________________________________________________________\n",
            "dense_4 (Dense)              (None, 128)               100480    \n",
            "_________________________________________________________________\n",
            "dropout_1 (Dropout)          (None, 128)               0         \n",
            "_________________________________________________________________\n",
            "dense_5 (Dense)              (None, 10)                1290      \n",
            "=================================================================\n",
            "Total params: 101,770\n",
            "Trainable params: 101,770\n",
            "Non-trainable params: 0\n",
            "_________________________________________________________________\n",
            "Epoch 1/10\n",
            "235/235 [==============================] - 1s 3ms/step - loss: 0.4971 - accuracy: 0.8598\n",
            "Epoch 2/10\n",
            "235/235 [==============================] - 1s 3ms/step - loss: 0.2320 - accuracy: 0.9325\n",
            "Epoch 3/10\n",
            "235/235 [==============================] - 1s 3ms/step - loss: 0.1786 - accuracy: 0.9484\n",
            "Epoch 4/10\n",
            "235/235 [==============================] - 1s 3ms/step - loss: 0.1474 - accuracy: 0.9575\n",
            "Epoch 5/10\n",
            "235/235 [==============================] - 1s 3ms/step - loss: 0.1271 - accuracy: 0.9632\n",
            "Epoch 6/10\n",
            "235/235 [==============================] - 1s 3ms/step - loss: 0.1111 - accuracy: 0.9680\n",
            "Epoch 7/10\n",
            "235/235 [==============================] - 1s 3ms/step - loss: 0.0996 - accuracy: 0.9709\n",
            "Epoch 8/10\n",
            "235/235 [==============================] - 1s 3ms/step - loss: 0.0903 - accuracy: 0.9728\n",
            "Epoch 9/10\n",
            "235/235 [==============================] - 1s 3ms/step - loss: 0.0802 - accuracy: 0.9760\n",
            "Epoch 10/10\n",
            "235/235 [==============================] - 1s 3ms/step - loss: 0.0736 - accuracy: 0.9777\n"
          ],
          "name": "stdout"
        }
      ]
    },
    {
      "cell_type": "code",
      "metadata": {
        "id": "HC8913YOqm7J",
        "colab_type": "code",
        "colab": {
          "base_uri": "https://localhost:8080/",
          "height": 296
        },
        "outputId": "16fcb673-4b35-47ab-ba68-889f75d0b58e"
      },
      "source": [
        "import matplotlib.pyplot as plt\n",
        "plt.xlabel(\"Epoch Number\")\n",
        "plt.ylabel(\"Loss Magnitude\")\n",
        "plt.plot(h2.history['loss'])"
      ],
      "execution_count": 14,
      "outputs": [
        {
          "output_type": "execute_result",
          "data": {
            "text/plain": [
              "[<matplotlib.lines.Line2D at 0x7fcee00ef5c0>]"
            ]
          },
          "metadata": {
            "tags": []
          },
          "execution_count": 14
        },
        {
          "output_type": "display_data",
          "data": {
            "image/png": "[encoded data removed]",
            "text/plain": [
              "<Figure size 432x288 with 1 Axes>"
            ]
          },
          "metadata": {
            "tags": [],
            "needs_background": "light"
          }
        }
      ]
    },
    {
      "cell_type": "code",
      "metadata": {
        "id": "Eth-NDLzquF9",
        "colab_type": "code",
        "colab": {
          "base_uri": "https://localhost:8080/",
          "height": 71
        },
        "outputId": "bc7a3dda-35b6-42c1-b8ae-0028b570bb7b"
      },
      "source": [
        "eval_loss, eval_acc = model2.evaluate(x_test,\n",
        "                                     y_test)\n",
        "print('Test Accuracy: {}'.format(eval_acc))"
      ],
      "execution_count": 15,
      "outputs": [
        {
          "output_type": "stream",
          "text": [
            "313/313 [==============================] - 1s 2ms/step - loss: 0.0745 - accuracy: 0.9760\n",
            "Test Accuracy: 0.9760000109672546\n"
          ],
          "name": "stdout"
        }
      ]
    },
    {
      "cell_type": "code",
      "metadata": {
        "id": "VbBKaAZjqzkl",
        "colab_type": "code",
        "colab": {
          "base_uri": "https://localhost:8080/",
          "height": 51
        },
        "outputId": "c8d5d54b-77f3-4603-943f-2dcf38b08a3b"
      },
      "source": [
        "img = x_test[0]\n",
        "print(img.shape)\n",
        "# to convert the 2d image to 1d image\n",
        "img = np.array([img])\n",
        "print(img.shape)"
      ],
      "execution_count": 18,
      "outputs": [
        {
          "output_type": "stream",
          "text": [
            "(28, 28)\n",
            "(1, 28, 28)\n"
          ],
          "name": "stdout"
        }
      ]
    },
    {
      "cell_type": "code",
      "metadata": {
        "id": "bVJ6svxGrD6K",
        "colab_type": "code",
        "colab": {
          "base_uri": "https://localhost:8080/",
          "height": 34
        },
        "outputId": "d356da9c-f4fa-4352-d9b7-d5be559893fc"
      },
      "source": [
        "prediction = model2.predict(img)\n",
        "np.set_printoptions(formatter={'float': '{: 0.2f}'.format})\n",
        "print(prediction*100)"
      ],
      "execution_count": 19,
      "outputs": [
        {
          "output_type": "stream",
          "text": [
            "[[ 0.00  0.00  0.01  0.05  0.00  0.00  0.00  99.94  0.00  0.00]]\n"
          ],
          "name": "stdout"
        }
      ]
    },
    {
      "cell_type": "code",
      "metadata": {
        "id": "lyy_juaxril5",
        "colab_type": "code",
        "colab": {
          "base_uri": "https://localhost:8080/",
          "height": 34
        },
        "outputId": "52aa97b0-2bf4-4fc9-f8d4-45419ca177b9"
      },
      "source": [
        "np.argmax(prediction[0])"
      ],
      "execution_count": 21,
      "outputs": [
        {
          "output_type": "execute_result",
          "data": {
            "text/plain": [
              "7"
            ]
          },
          "metadata": {
            "tags": []
          },
          "execution_count": 21
        }
      ]
    },
    {
      "cell_type": "code",
      "metadata": {
        "id": "4rSmunysroey",
        "colab_type": "code",
        "colab": {
          "base_uri": "https://localhost:8080/",
          "height": 34
        },
        "outputId": "69dbfd84-6937-4b19-c293-26f7d8d96fc1"
      },
      "source": [
        "y_test[0]"
      ],
      "execution_count": 22,
      "outputs": [
        {
          "output_type": "execute_result",
          "data": {
            "text/plain": [
              "7"
            ]
          },
          "metadata": {
            "tags": []
          },
          "execution_count": 22
        }
      ]
    },
    {
      "cell_type": "code",
      "metadata": {
        "id": "4I9OCfZQrsd3",
        "colab_type": "code",
        "colab": {}
      },
      "source": [
        ""
      ],
      "execution_count": null,
      "outputs": []
    }
  ]
}