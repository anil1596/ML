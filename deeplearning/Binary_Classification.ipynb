{
  "nbformat": 4,
  "nbformat_minor": 0,
  "metadata": {
    "colab": {
      "name": "Binary Classification.ipynb",
      "provenance": [],
      "authorship_tag": "ABX9TyMu4JkrToh1uGB/1I0NHMj8"
    },
    "kernelspec": {
      "name": "python3",
      "display_name": "Python 3"
    },
    "accelerator": "GPU"
  },
  "cells": [
    {
      "cell_type": "markdown",
      "metadata": {
        "id": "JsPMXtbTev5S",
        "colab_type": "text"
      },
      "source": [
        "# Binary Classification Example"
      ]
    },
    {
      "cell_type": "code",
      "metadata": {
        "id": "B_KM1ubxenAB",
        "colab_type": "code",
        "colab": {}
      },
      "source": [
        "import numpy as np\n",
        "\n",
        "try:\n",
        "  %tensorflow_version 2.x\n",
        "except Exception:\n",
        "  pass\n",
        "\n",
        "import tensorflow as tf\n"
      ],
      "execution_count": 1,
      "outputs": []
    },
    {
      "cell_type": "markdown",
      "metadata": {
        "id": "YkbvLuMtfNcx",
        "colab_type": "text"
      },
      "source": [
        "# Preparing the DataSet"
      ]
    },
    {
      "cell_type": "code",
      "metadata": {
        "id": "XmU-LWBUfJxx",
        "colab_type": "code",
        "colab": {
          "base_uri": "https://localhost:8080/",
          "height": 71
        },
        "outputId": "02a72c17-f612-40c4-bd4a-0ee9a190c5e8"
      },
      "source": [
        "mnist = tf.keras.datasets.mnist\n",
        "(x_train, y_train), (x_test, y_test) = mnist.load_data()"
      ],
      "execution_count": 2,
      "outputs": [
        {
          "output_type": "stream",
          "text": [
            "Downloading data from https://storage.googleapis.com/tensorflow/tf-keras-datasets/mnist.npz\n",
            "11493376/11490434 [==============================] - 0s 0us/step\n"
          ],
          "name": "stdout"
        }
      ]
    },
    {
      "cell_type": "code",
      "metadata": {
        "id": "s_rAS0jyfbNP",
        "colab_type": "code",
        "colab": {
          "base_uri": "https://localhost:8080/",
          "height": 35
        },
        "outputId": "193eb346-0159-4c78-adf0-caa4d7c99f27"
      },
      "source": [
        "tf.keras.backend.image_data_format()"
      ],
      "execution_count": 4,
      "outputs": [
        {
          "output_type": "execute_result",
          "data": {
            "application/vnd.google.colaboratory.intrinsic": {
              "type": "string"
            },
            "text/plain": [
              "'channels_last'"
            ]
          },
          "metadata": {
            "tags": []
          },
          "execution_count": 4
        }
      ]
    },
    {
      "cell_type": "code",
      "metadata": {
        "id": "es-bD19ofefu",
        "colab_type": "code",
        "colab": {}
      },
      "source": [
        "img_rows, img_cols =28, 28\n",
        "if tf.keras.backend.image_data_format() == 'channels_last':\n",
        "  x_train = x_train.reshape(x_train.shape[0], 1, img_rows, img_cols)\n",
        "  x_test = x_test.reshape(x_test.shape[0], 1, img_rows, img_cols)\n",
        "  input_shape = (1, img_rows, img_cols)\n",
        "else:\n",
        "  x_train = x_train.reshape(x_train.shape[0], img_rows, img_cols, 1)\n",
        "  x_test = x_test.reshape(x_test.shape[0], img_rows, img_cols, 1)\n",
        "  input_shape = (img_rows, img_cols, 1)"
      ],
      "execution_count": 5,
      "outputs": []
    },
    {
      "cell_type": "code",
      "metadata": {
        "id": "IaNTqUIZgQbV",
        "colab_type": "code",
        "colab": {}
      },
      "source": [
        "x_train, x_test = x_train / 255.0, x_test / 255.0"
      ],
      "execution_count": 6,
      "outputs": []
    },
    {
      "cell_type": "code",
      "metadata": {
        "id": "A-EFQ-JhgYhp",
        "colab_type": "code",
        "colab": {}
      },
      "source": [
        "y_train = np.where(y_train!= 5, 0, 1)\n",
        "# not digit 5, then target convert to 0\n",
        "# if it is digit 5, then y target is 1"
      ],
      "execution_count": 7,
      "outputs": []
    },
    {
      "cell_type": "code",
      "metadata": {
        "id": "noMMzIycgrs4",
        "colab_type": "code",
        "colab": {}
      },
      "source": [
        "y_train = np.asarray(y_train.astype('float32'))\n",
        "y_test = np.asarray(y_test.astype('float32'))"
      ],
      "execution_count": 8,
      "outputs": []
    },
    {
      "cell_type": "markdown",
      "metadata": {
        "id": "OhrsrEMEg5lQ",
        "colab_type": "text"
      },
      "source": [
        "## Network Architecture"
      ]
    },
    {
      "cell_type": "code",
      "metadata": {
        "id": "7EVI_Xiag2Ux",
        "colab_type": "code",
        "colab": {
          "base_uri": "https://localhost:8080/",
          "height": 255
        },
        "outputId": "14e5691a-a232-49f3-a9e1-a8fa80011275"
      },
      "source": [
        "batch_size = 128\n",
        "num_classes = 1\n",
        "epochs =20\n",
        "\n",
        "model = tf.keras.Sequential([\n",
        "                             tf.keras.layers.Flatten(input_shape=input_shape),\n",
        "                             tf.keras.layers.Dense(128, activation='relu'),\n",
        "                             tf.keras.layers.Dense(num_classes, activation='sigmoid')\n",
        "])\n",
        "\n",
        "model.summary()\n",
        "\n",
        "model.compile(optimizer='sgd',\n",
        "              loss='binary_crossentropy',\n",
        "              metrics=['accuracy']) # loss function and optimizers\n",
        "\n"
      ],
      "execution_count": 16,
      "outputs": [
        {
          "output_type": "stream",
          "text": [
            "Model: \"sequential_1\"\n",
            "_________________________________________________________________\n",
            "Layer (type)                 Output Shape              Param #   \n",
            "=================================================================\n",
            "flatten_1 (Flatten)          (None, 784)               0         \n",
            "_________________________________________________________________\n",
            "dense_2 (Dense)              (None, 128)               100480    \n",
            "_________________________________________________________________\n",
            "dense_3 (Dense)              (None, 1)                 129       \n",
            "=================================================================\n",
            "Total params: 100,609\n",
            "Trainable params: 100,609\n",
            "Non-trainable params: 0\n",
            "_________________________________________________________________\n"
          ],
          "name": "stdout"
        }
      ]
    },
    {
      "cell_type": "markdown",
      "metadata": {
        "id": "XS1w5oYWhzWX",
        "colab_type": "text"
      },
      "source": [
        "## Measure the performance of the NN"
      ]
    },
    {
      "cell_type": "code",
      "metadata": {
        "id": "jZ0sFSnCh2Cb",
        "colab_type": "code",
        "colab": {}
      },
      "source": [
        "x_val = x_train[50000:]\n",
        "x_train_l = x_train[:50000]\n",
        "y_val = y_train[50000:]\n",
        "y_train_l = y_train[:50000]"
      ],
      "execution_count": 17,
      "outputs": []
    },
    {
      "cell_type": "code",
      "metadata": {
        "id": "pS5TeEYYiDYu",
        "colab_type": "code",
        "colab": {
          "base_uri": "https://localhost:8080/",
          "height": 717
        },
        "outputId": "aeaef2ac-5154-498e-8fc6-10fce2419bbf"
      },
      "source": [
        "h = model.fit(x_train_l,\n",
        "              y_train_l,\n",
        "              epochs=epochs,\n",
        "              batch_size=batch_size,\n",
        "              validation_data=(x_val, y_val))"
      ],
      "execution_count": 18,
      "outputs": [
        {
          "output_type": "stream",
          "text": [
            "Epoch 1/20\n",
            "391/391 [==============================] - 1s 3ms/step - loss: 0.2583 - accuracy: 0.9049 - val_loss: 0.1941 - val_accuracy: 0.9220\n",
            "Epoch 2/20\n",
            "391/391 [==============================] - 1s 3ms/step - loss: 0.1672 - accuracy: 0.9352 - val_loss: 0.1462 - val_accuracy: 0.9512\n",
            "Epoch 3/20\n",
            "391/391 [==============================] - 1s 3ms/step - loss: 0.1343 - accuracy: 0.9529 - val_loss: 0.1227 - val_accuracy: 0.9600\n",
            "Epoch 4/20\n",
            "391/391 [==============================] - 1s 3ms/step - loss: 0.1163 - accuracy: 0.9604 - val_loss: 0.1093 - val_accuracy: 0.9667\n",
            "Epoch 5/20\n",
            "391/391 [==============================] - 1s 3ms/step - loss: 0.1048 - accuracy: 0.9654 - val_loss: 0.1003 - val_accuracy: 0.9691\n",
            "Epoch 6/20\n",
            "391/391 [==============================] - 1s 3ms/step - loss: 0.0963 - accuracy: 0.9684 - val_loss: 0.0937 - val_accuracy: 0.9720\n",
            "Epoch 7/20\n",
            "391/391 [==============================] - 1s 3ms/step - loss: 0.0897 - accuracy: 0.9711 - val_loss: 0.0883 - val_accuracy: 0.9743\n",
            "Epoch 8/20\n",
            "391/391 [==============================] - 1s 3ms/step - loss: 0.0842 - accuracy: 0.9730 - val_loss: 0.0840 - val_accuracy: 0.9753\n",
            "Epoch 9/20\n",
            "391/391 [==============================] - 1s 3ms/step - loss: 0.0795 - accuracy: 0.9745 - val_loss: 0.0801 - val_accuracy: 0.9779\n",
            "Epoch 10/20\n",
            "391/391 [==============================] - 1s 3ms/step - loss: 0.0754 - accuracy: 0.9759 - val_loss: 0.0769 - val_accuracy: 0.9785\n",
            "Epoch 11/20\n",
            "391/391 [==============================] - 1s 3ms/step - loss: 0.0718 - accuracy: 0.9773 - val_loss: 0.0740 - val_accuracy: 0.9799\n",
            "Epoch 12/20\n",
            "391/391 [==============================] - 1s 3ms/step - loss: 0.0686 - accuracy: 0.9784 - val_loss: 0.0714 - val_accuracy: 0.9800\n",
            "Epoch 13/20\n",
            "391/391 [==============================] - 1s 3ms/step - loss: 0.0657 - accuracy: 0.9794 - val_loss: 0.0691 - val_accuracy: 0.9817\n",
            "Epoch 14/20\n",
            "391/391 [==============================] - 1s 3ms/step - loss: 0.0631 - accuracy: 0.9803 - val_loss: 0.0668 - val_accuracy: 0.9813\n",
            "Epoch 15/20\n",
            "391/391 [==============================] - 1s 3ms/step - loss: 0.0607 - accuracy: 0.9809 - val_loss: 0.0649 - val_accuracy: 0.9817\n",
            "Epoch 16/20\n",
            "391/391 [==============================] - 1s 3ms/step - loss: 0.0586 - accuracy: 0.9816 - val_loss: 0.0630 - val_accuracy: 0.9820\n",
            "Epoch 17/20\n",
            "391/391 [==============================] - 1s 3ms/step - loss: 0.0565 - accuracy: 0.9824 - val_loss: 0.0613 - val_accuracy: 0.9831\n",
            "Epoch 18/20\n",
            "391/391 [==============================] - 1s 3ms/step - loss: 0.0547 - accuracy: 0.9827 - val_loss: 0.0600 - val_accuracy: 0.9831\n",
            "Epoch 19/20\n",
            "391/391 [==============================] - 1s 3ms/step - loss: 0.0530 - accuracy: 0.9835 - val_loss: 0.0585 - val_accuracy: 0.9832\n",
            "Epoch 20/20\n",
            "391/391 [==============================] - 1s 3ms/step - loss: 0.0514 - accuracy: 0.9840 - val_loss: 0.0573 - val_accuracy: 0.9836\n"
          ],
          "name": "stdout"
        }
      ]
    },
    {
      "cell_type": "markdown",
      "metadata": {
        "id": "JPqmYTTFip1O",
        "colab_type": "text"
      },
      "source": [
        "## Visualisation of Performance"
      ]
    },
    {
      "cell_type": "code",
      "metadata": {
        "id": "f23-c4GZibnw",
        "colab_type": "code",
        "colab": {}
      },
      "source": [
        "import matplotlib.pyplot as plt \n",
        "loss_values = h.history['loss']\n",
        "val_loss_values = h.history['val_loss']\n",
        "\n",
        "epochs = range(1, len(h.history['accuracy']) + 1)"
      ],
      "execution_count": 22,
      "outputs": []
    },
    {
      "cell_type": "code",
      "metadata": {
        "id": "q4KuTnqvjKnm",
        "colab_type": "code",
        "colab": {
          "base_uri": "https://localhost:8080/",
          "height": 299
        },
        "outputId": "126b9395-71cd-40af-b116-d46082849f5e"
      },
      "source": [
        "plt.style.use('ggplot')\n",
        "plt.plot(epochs, loss_values,' bo',\n",
        "         label='Training Loss')\n",
        "plt.plot(epochs, val_loss_values, 'b',\n",
        "         label='Validation loss')\n",
        "plt.xlabel('Epochs')\n",
        "plt.ylabel('Loss')\n",
        "plt.legend()"
      ],
      "execution_count": 23,
      "outputs": [
        {
          "output_type": "execute_result",
          "data": {
            "text/plain": [
              "<matplotlib.legend.Legend at 0x7fa9cd7f5048>"
            ]
          },
          "metadata": {
            "tags": []
          },
          "execution_count": 23
        },
        {
          "output_type": "display_data",
          "data": {
            "image/png": "[encoded data removed]",
            "text/plain": [
              "<Figure size 432x288 with 1 Axes>"
            ]
          },
          "metadata": {
            "tags": []
          }
        }
      ]
    },
    {
      "cell_type": "code",
      "metadata": {
        "id": "hG8FAJJXj1Yc",
        "colab_type": "code",
        "colab": {
          "base_uri": "https://localhost:8080/",
          "height": 299
        },
        "outputId": "11e92dbb-f452-4425-8907-4538e0359573"
      },
      "source": [
        "plt.clf()\n",
        "acc_values = h.history['accuracy']\n",
        "val_acc_values = h.history['val_accuracy']\n",
        "\n",
        "plt.plot(epochs, acc_values,' bo',\n",
        "         label='Training Loss')\n",
        "plt.plot(epochs, val_acc_values, 'b',\n",
        "         label='Validation loss')\n",
        "plt.xlabel('Epochs')\n",
        "plt.ylabel('Accuracy')\n",
        "plt.legend()"
      ],
      "execution_count": 24,
      "outputs": [
        {
          "output_type": "execute_result",
          "data": {
            "text/plain": [
              "<matplotlib.legend.Legend at 0x7fa9ce518908>"
            ]
          },
          "metadata": {
            "tags": []
          },
          "execution_count": 24
        },
        {
          "output_type": "display_data",
          "data": {
            "image/png": "[encoded data removed]",
            "text/plain": [
              "<Figure size 432x288 with 1 Axes>"
            ]
          },
          "metadata": {
            "tags": []
          }
        }
      ]
    },
    {
      "cell_type": "code",
      "metadata": {
        "id": "-hKYNISTkNyz",
        "colab_type": "code",
        "colab": {}
      },
      "source": [
        ""
      ],
      "execution_count": null,
      "outputs": []
    },
    {
      "cell_type": "code",
      "metadata": {
        "id": "1-F1Cv7eco58",
        "colab_type": "code",
        "colab": {}
      },
      "source": [
        ""
      ],
      "execution_count": null,
      "outputs": []
    }
  ]
}